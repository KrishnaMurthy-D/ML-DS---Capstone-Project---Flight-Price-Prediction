{
 "cells": [
  {
   "cell_type": "code",
   "execution_count": 1,
   "id": "8c79cf0d",
   "metadata": {},
   "outputs": [],
   "source": [
    "import pickle"
   ]
  },
  {
   "cell_type": "code",
   "execution_count": 2,
   "id": "fbf28f9a",
   "metadata": {},
   "outputs": [],
   "source": [
    "loaded_model=pickle.load(open(\"Finalized_model.sav\",'rb'))"
   ]
  },
  {
   "cell_type": "code",
   "execution_count": 4,
   "id": "44e4e24c",
   "metadata": {},
   "outputs": [
    {
     "name": "stdout",
     "output_type": "stream",
     "text": [
      "airline:4\n",
      "source_city0\n",
      "departure_time3\n",
      "stops0\n",
      "arrival_time4\n",
      "destination_city5\n",
      "Class0\n",
      "duration2.17\n",
      "days_left1\n"
     ]
    }
   ],
   "source": [
    "airline=int(input(\"airline:\"))\n",
    "source_city=int(input(\"source_city\"))\n",
    "departure_time=int(input(\"departure_time\"))\n",
    "stops=int(input(\"stops\"))\n",
    "arrival_time=int(input(\"arrival_time\"))\n",
    "destination_city=int(input(\"destination_city\"))\n",
    "Class=int(input(\"Class\"))\n",
    "duration=float(input(\"duration\"))\n",
    "days_left=int(input(\"days_left\"))"
   ]
  },
  {
   "cell_type": "code",
   "execution_count": 5,
   "id": "2bbd3ebb",
   "metadata": {},
   "outputs": [
    {
     "name": "stderr",
     "output_type": "stream",
     "text": [
      "C:\\Users\\Rajesh\\Anaconda3\\envs\\krishAI\\lib\\site-packages\\sklearn\\base.py:451: UserWarning: X does not have valid feature names, but DecisionTreeRegressor was fitted with feature names\n",
      "  \"X does not have valid feature names, but\"\n"
     ]
    },
    {
     "data": {
      "text/plain": [
       "array([5953.])"
      ]
     },
     "execution_count": 5,
     "metadata": {},
     "output_type": "execute_result"
    }
   ],
   "source": [
    "price=loaded_model.predict([[airline,source_city,departure_time,stops,arrival_time,destination_city,Class,duration,days_left]])\n",
    "price"
   ]
  },
  {
   "cell_type": "code",
   "execution_count": null,
   "id": "ea12996e",
   "metadata": {},
   "outputs": [],
   "source": []
  }
 ],
 "metadata": {
  "kernelspec": {
   "display_name": "Python 3 (ipykernel)",
   "language": "python",
   "name": "python3"
  },
  "language_info": {
   "codemirror_mode": {
    "name": "ipython",
    "version": 3
   },
   "file_extension": ".py",
   "mimetype": "text/x-python",
   "name": "python",
   "nbconvert_exporter": "python",
   "pygments_lexer": "ipython3",
   "version": "3.7.6"
  }
 },
 "nbformat": 4,
 "nbformat_minor": 5
}
